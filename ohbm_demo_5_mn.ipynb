{
 "cells": [
  {
   "cell_type": "code",
   "execution_count": null,
   "metadata": {},
   "outputs": [],
   "source": [
    "%matplotlib inline"
   ]
  },
  {
   "cell_type": "code",
   "execution_count": null,
   "metadata": {},
   "outputs": [],
   "source": [
    "import warnings\n",
    "warnings.simplefilter('ignore')"
   ]
  },
  {
   "cell_type": "markdown",
   "metadata": {},
   "source": [
    "\n",
    "What's new in Nilearn\n",
    "=====================\n",
    "\n",
    "Nilearn can do many things. We arbitrarily picked\n",
    "a few for this 5-minute demo. Check out the documentation\n",
    "(https://nilearn.github.io/user_guide.html) and the example gallery\n",
    "(https://nilearn.github.io/auto_examples/index.html) for more!\n"
   ]
  },
  {
   "cell_type": "markdown",
   "metadata": {},
   "source": [
    "Interactive image vizualization: brain volume and cortical surface\n",
    "------------------------------------------------------------------\n",
    "\n"
   ]
  },
  {
   "cell_type": "code",
   "execution_count": null,
   "metadata": {},
   "outputs": [],
   "source": [
    "# Download and plot a group-level statistical map:\n",
    "from nilearn import datasets\n",
    "\n",
    "img = datasets.fetch_neurovault_motor_task()['images'][0]\n",
    "print(img)"
   ]
  },
  {
   "cell_type": "code",
   "execution_count": null,
   "metadata": {},
   "outputs": [],
   "source": [
    "from nilearn import plotting\n",
    "\n",
    "plotting.view_img(img, threshold='95%')"
   ]
  },
  {
   "cell_type": "markdown",
   "metadata": {},
   "source": [
    "Made with the brainsprite viewer: https://github.com/SIMEXP/brainsprite.js\n",
    "\n"
   ]
  },
  {
   "cell_type": "code",
   "execution_count": null,
   "metadata": {},
   "outputs": [],
   "source": [
    "view = plotting.view_img(img, threshold='95%')\n",
    "view.open_in_browser()"
   ]
  },
  {
   "cell_type": "markdown",
   "metadata": {},
   "source": [
    "Static plots (matplotlib figures)\n",
    "\n"
   ]
  },
  {
   "cell_type": "code",
   "execution_count": null,
   "metadata": {},
   "outputs": [],
   "source": [
    "plotting.plot_stat_map(\n",
    "    img, threshold=3, display_mode='z', cut_coords=[-20,64])"
   ]
  },
  {
   "cell_type": "markdown",
   "metadata": {},
   "source": [
    "Projections on the cortical surface\n",
    "\n"
   ]
  },
  {
   "cell_type": "code",
   "execution_count": null,
   "metadata": {},
   "outputs": [],
   "source": [
    "plotting.view_img_on_surf(img, threshold='95%')"
   ]
  },
  {
   "cell_type": "code",
   "execution_count": null,
   "metadata": {},
   "outputs": [],
   "source": [
    "plotting.view_img_on_surf(img, threshold='95%', surf_mesh='fsaverage')"
   ]
  },
  {
   "cell_type": "markdown",
   "metadata": {},
   "source": [
    "More about dataset downloaders: https://nilearn.github.io/modules/reference.html#module-nilearn.datasets\n",
    "\n",
    "More about plotting: https://nilearn.github.io/plotting/index.html\n",
    "\n"
   ]
  },
  {
   "cell_type": "markdown",
   "metadata": {},
   "source": [
    "Easily creating connectivity matrices\n",
    "-------------------------------------\n",
    "we use one subject from a dataset recently added to Nilearn:\n",
    "a movie watching based brain development dataset\n",
    "\n"
   ]
  },
  {
   "cell_type": "code",
   "execution_count": null,
   "metadata": {},
   "outputs": [],
   "source": [
    "rest_data = datasets.fetch_development_fmri(n_subjects=60)\n",
    "rest_data.keys()"
   ]
  },
  {
   "cell_type": "markdown",
   "metadata": {},
   "source": [
    "Extract time series from probabilistic ROIs of the MSDL atlas.\n",
    "\n"
   ]
  },
  {
   "cell_type": "code",
   "execution_count": null,
   "metadata": {},
   "outputs": [],
   "source": [
    "from nilearn.input_data import NiftiMapsMasker\n",
    "import numpy as np\n",
    "\n",
    "msdl = datasets.fetch_atlas_msdl()\n",
    "print('number of regions in MSDL atlas:', len(msdl.labels))\n",
    "\n",
    "masker = NiftiMapsMasker(\n",
    "    msdl.maps, resampling_target=\"data\", t_r=2, detrend=True,\n",
    "    low_pass=.1, high_pass=.01, memory='nilearn_cache', memory_level=3).fit([])\n",
    "masked_data = [masker.transform(func, confounds) for\n",
    "               (func, confounds) in zip(rest_data.func, rest_data.confounds)]\n",
    "masked_data = np.asarray(masked_data)\n",
    "print('masked data shape:', masked_data[0].shape)"
   ]
  },
  {
   "cell_type": "markdown",
   "metadata": {},
   "source": [
    "Compute and plot connectivity matrix\n",
    "\n"
   ]
  },
  {
   "cell_type": "code",
   "execution_count": null,
   "metadata": {},
   "outputs": [],
   "source": [
    "from nilearn.connectome import ConnectivityMeasure\n",
    "\n",
    "correlation_measure = ConnectivityMeasure(kind='correlation').fit(masked_data)\n",
    "\n",
    "plotting.plot_matrix(correlation_measure.mean_, tri='lower')"
   ]
  },
  {
   "cell_type": "code",
   "execution_count": null,
   "metadata": {},
   "outputs": [],
   "source": [
    "plotting.view_connectome(\n",
    "    correlation_measure.mean_, msdl.region_coords,\n",
    "    threshold='90%', cmap='cold_hot')"
   ]
  },
  {
   "cell_type": "markdown",
   "metadata": {},
   "source": [
    "Age group classification with scikit-learn\n",
    "------------------------------------------\n",
    "`ConnectivityMeasure` can be used to extract features for supervised learning\n",
    "\n"
   ]
  },
  {
   "cell_type": "code",
   "execution_count": null,
   "metadata": {},
   "outputs": [],
   "source": [
    "from sklearn.svm import LinearSVC\n",
    "from sklearn.model_selection import StratifiedShuffleSplit\n",
    "from sklearn.preprocessing import LabelEncoder\n",
    "from sklearn.model_selection import cross_val_score\n",
    "\n",
    "kinds = ['correlation', 'partial correlation', 'tangent']\n",
    "groups = [pheno['Child_Adult'] for pheno in rest_data.phenotypic]\n",
    "classes = LabelEncoder().fit_transform(groups)\n",
    "\n",
    "cv = StratifiedShuffleSplit(n_splits=15, random_state=0, test_size=10)\n",
    "\n",
    "correlations = ConnectivityMeasure(\n",
    "    kind='correlation', vectorize=True).fit_transform(masked_data)\n",
    "\n",
    "scores = cross_val_score(LinearSVC(), correlations, classes, cv=cv)\n",
    "print(np.mean(scores))"
   ]
  },
  {
   "cell_type": "code",
   "execution_count": null,
   "metadata": {},
   "outputs": [],
   "source": [
    "import seaborn as sns\n",
    "sns.violinplot(scores)\n",
    "sns.stripplot(scores, color='k')"
   ]
  },
  {
   "cell_type": "markdown",
   "metadata": {},
   "source": [
    "More about connectivity with nilearn: https://nilearn.github.io/connectivity/index.html\n",
    "\n",
    "More about the development dataset:\n",
    "Richardson et al. (2018). Development of the social brain from age three to\n",
    "twelve years.\n",
    "\n"
   ]
  }
 ],
 "metadata": {
  "kernelspec": {
   "display_name": "Python 3",
   "language": "python",
   "name": "python3"
  },
  "language_info": {
   "codemirror_mode": {
    "name": "ipython",
    "version": 3
   },
   "file_extension": ".py",
   "mimetype": "text/x-python",
   "name": "python",
   "nbconvert_exporter": "python",
   "pygments_lexer": "ipython3",
   "version": "3.7.2"
  }
 },
 "nbformat": 4,
 "nbformat_minor": 1
}
